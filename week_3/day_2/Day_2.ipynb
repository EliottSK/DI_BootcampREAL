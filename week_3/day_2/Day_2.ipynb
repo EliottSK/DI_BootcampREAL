{
 "cells": [
  {
   "cell_type": "code",
   "execution_count": 1,
   "id": "adc2024d-8902-4cb3-9106-ccacf0f007b4",
   "metadata": {
    "tags": []
   },
   "outputs": [],
   "source": [
    "# Exercise 1 : "
   ]
  },
  {
   "cell_type": "code",
   "execution_count": 2,
   "id": "581d19bd-7d13-461b-b93d-d0649ceaa8b8",
   "metadata": {
    "tags": []
   },
   "outputs": [],
   "source": [
    "class Pets():\n",
    "    def __init__(self, animals):\n",
    "        self.animals = animals\n",
    "\n",
    "    def walk(self):\n",
    "        for animal in self.animals:\n",
    "            print(animal.walk())"
   ]
  },
  {
   "cell_type": "code",
   "execution_count": 3,
   "id": "725f8b18-9a42-440d-82d8-6c1da12dc81f",
   "metadata": {
    "tags": []
   },
   "outputs": [],
   "source": [
    "class Cat():\n",
    "    is_lazy = True\n",
    "\n",
    "    def __init__(self, name, age):\n",
    "        self.name = name\n",
    "        self.age = age\n",
    "\n",
    "    def walk(self):\n",
    "        return f'{self.name} is just walking around'\n",
    "\n",
    "class Bengal(Cat):\n",
    "    def sing(self, sounds):\n",
    "        return f'{sounds}'\n",
    "\n",
    "class Chartreux(Cat):\n",
    "    def sing(self, sounds):\n",
    "        return f'{sounds}'\n",
    "    "
   ]
  },
  {
   "cell_type": "code",
   "execution_count": 5,
   "id": "5db8358c-ac66-4a68-8f8c-e91baa53c142",
   "metadata": {
    "tags": []
   },
   "outputs": [],
   "source": [
    "class Siamese(Cat):\n",
    "    def sing(self, sounds):\n",
    "        return f'{sounds}'\n",
    "    "
   ]
  },
  {
   "cell_type": "code",
   "execution_count": 6,
   "id": "4225d05a-4d6b-4538-814b-bdb5f60847c1",
   "metadata": {
    "tags": []
   },
   "outputs": [],
   "source": [
    "bengal_cat = Bengal(\"Bengal\", 3)\n",
    "chartreux_cat = Chartreux(\"Chartreux\", 5)\n",
    "siamese_cat = Siamese(\"Siamese\", 2)"
   ]
  },
  {
   "cell_type": "code",
   "execution_count": 7,
   "id": "99b4080c-20be-40f1-b3be-f594ac5be070",
   "metadata": {
    "tags": []
   },
   "outputs": [],
   "source": [
    "all_cats = [bengal_cat, chartreux_cat, siamese_cat]"
   ]
  },
  {
   "cell_type": "code",
   "execution_count": 8,
   "id": "eabf2bf2-5c3e-4565-8aeb-e46186078562",
   "metadata": {
    "tags": []
   },
   "outputs": [],
   "source": [
    "sara_pet = Pets(all_cats)\n"
   ]
  },
  {
   "cell_type": "code",
   "execution_count": 9,
   "id": "5dc6d21e-2bf6-4ebf-aecf-d03abbd8de4a",
   "metadata": {
    "tags": []
   },
   "outputs": [
    {
     "name": "stdout",
     "output_type": "stream",
     "text": [
      "Bengal is just walking around\n",
      "Chartreux is just walking around\n",
      "Siamese is just walking around\n"
     ]
    }
   ],
   "source": [
    "sara_pet.walk()\n"
   ]
  },
  {
   "cell_type": "code",
   "execution_count": 10,
   "id": "b6fd61f7-b6bb-494b-80e1-b0b5468bd323",
   "metadata": {
    "tags": []
   },
   "outputs": [],
   "source": [
    "#Exercise 2 : "
   ]
  },
  {
   "cell_type": "code",
   "execution_count": 11,
   "id": "5949df13-ebec-4406-b14e-73fe09f8f1e5",
   "metadata": {
    "tags": []
   },
   "outputs": [],
   "source": [
    "class Dog():\n",
    "    def __init__(self, name, age, weight):\n",
    "        self.name = name \n",
    "        self.age = age\n",
    "        self.weight = weight \n",
    "    def bark(self):\n",
    "        return f'{self.name} is barking'\n",
    "    def run_speed(self):\n",
    "        return self.weight / self.age * 10\n",
    "    def fight(self, other_dog):\n",
    "        self_score = self.run_speed() * self.weight\n",
    "        other_score = other_dog.run_speed() * other_dog.weight\n",
    "\n",
    "        if self_score > other_score:\n",
    "            return f\"{self.name} won the fight!\"\n",
    "        elif self_score < other_score:\n",
    "            return f\"{other_dog.name} won the fight!\"\n",
    "        else:\n",
    "            return \"It's a tie!\""
   ]
  },
  {
   "cell_type": "code",
   "execution_count": 12,
   "id": "8f5fc0f1-0544-4801-8bca-fa6577f69136",
   "metadata": {
    "tags": []
   },
   "outputs": [],
   "source": [
    "dog1 = Dog(\"Max\", 5, 20)\n",
    "dog2 = Dog(\"Bella\", 3, 15)\n",
    "dog3 = Dog(\"Charlie\", 7, 25)"
   ]
  },
  {
   "cell_type": "code",
   "execution_count": 13,
   "id": "43a21485-6ea1-47be-9190-211d1b9646cf",
   "metadata": {
    "tags": []
   },
   "outputs": [
    {
     "name": "stdout",
     "output_type": "stream",
     "text": [
      "Max is barking\n",
      "Max's running speed: 40.0\n",
      "Bella is barking\n",
      "Bella's running speed: 50.0\n",
      "Charlie is barking\n",
      "Charlie's running speed: 35.714285714285715\n"
     ]
    }
   ],
   "source": [
    "print(dog1.bark())\n",
    "print(f\"{dog1.name}'s running speed: {dog1.run_speed()}\")\n",
    "print(dog2.bark())\n",
    "print(f\"{dog2.name}'s running speed: {dog2.run_speed()}\")\n",
    "print(dog3.bark())\n",
    "print(f\"{dog3.name}'s running speed: {dog3.run_speed()}\")\n"
   ]
  },
  {
   "cell_type": "code",
   "execution_count": 14,
   "id": "cc9788c2-f017-4390-bee2-764065d3dfe1",
   "metadata": {
    "tags": []
   },
   "outputs": [
    {
     "name": "stdout",
     "output_type": "stream",
     "text": [
      "Max won the fight!\n"
     ]
    }
   ],
   "source": [
    "print(dog1.fight(dog2))"
   ]
  },
  {
   "cell_type": "code",
   "execution_count": 15,
   "id": "8edcdeb6-5c34-42b3-82ab-9cdcf2f16c98",
   "metadata": {
    "tags": []
   },
   "outputs": [],
   "source": [
    "# Exercise 3 \n"
   ]
  },
  {
   "cell_type": "code",
   "execution_count": null,
   "id": "df49aa20-55e7-4fce-a263-763bec975f4c",
   "metadata": {},
   "outputs": [],
   "source": [
    "On the new python file"
   ]
  },
  {
   "cell_type": "code",
   "execution_count": null,
   "id": "c8bd13fb-e669-4282-9783-c8c3190d756d",
   "metadata": {},
   "outputs": [],
   "source": []
  },
  {
   "cell_type": "code",
   "execution_count": null,
   "id": "90d2f151-7484-44fa-9190-36f9bb064202",
   "metadata": {},
   "outputs": [],
   "source": []
  },
  {
   "cell_type": "code",
   "execution_count": null,
   "id": "1569999b-198c-48de-b2cb-1ef83411308e",
   "metadata": {},
   "outputs": [],
   "source": []
  },
  {
   "cell_type": "code",
   "execution_count": null,
   "id": "fff8cadf-ae72-40cc-a0a4-8d98782ccf07",
   "metadata": {},
   "outputs": [],
   "source": []
  },
  {
   "cell_type": "code",
   "execution_count": null,
   "id": "e800dc27-ccd0-41ab-a70b-fde6bb19e8ab",
   "metadata": {},
   "outputs": [],
   "source": []
  },
  {
   "cell_type": "code",
   "execution_count": null,
   "id": "012e0084-fbec-4d92-9126-b2737db6932b",
   "metadata": {},
   "outputs": [],
   "source": []
  },
  {
   "cell_type": "code",
   "execution_count": null,
   "id": "4d65260a-1786-4947-bca3-dbdf457bd586",
   "metadata": {},
   "outputs": [],
   "source": []
  }
 ],
 "metadata": {
  "kernelspec": {
   "display_name": "Python 3 (ipykernel)",
   "language": "python",
   "name": "python3"
  },
  "language_info": {
   "codemirror_mode": {
    "name": "ipython",
    "version": 3
   },
   "file_extension": ".py",
   "mimetype": "text/x-python",
   "name": "python",
   "nbconvert_exporter": "python",
   "pygments_lexer": "ipython3",
   "version": "3.11.4"
  },
  "toc-showcode": false
 },
 "nbformat": 4,
 "nbformat_minor": 5
}

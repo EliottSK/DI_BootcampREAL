{
 "cells": [
  {
   "cell_type": "code",
   "execution_count": 1,
   "id": "38e8c553-32f1-4d30-b939-f860fd332a38",
   "metadata": {
    "tags": []
   },
   "outputs": [],
   "source": [
    "# Exercise 3"
   ]
  },
  {
   "cell_type": "code",
   "execution_count": 7,
   "id": "e54a60e7-50a9-4fe1-b574-80c35da80d50",
   "metadata": {
    "tags": []
   },
   "outputs": [],
   "source": [
    "#impossible to import for me sorry "
   ]
  },
  {
   "cell_type": "code",
   "execution_count": 8,
   "id": "9bb23756-5a76-4dce-8e70-ce4f22402072",
   "metadata": {
    "tags": []
   },
   "outputs": [],
   "source": [
    "class Dog():\n",
    "    def __init__(self, name, age, weight):\n",
    "        self.name = name \n",
    "        self.age = age\n",
    "        self.weight = weight \n",
    "    def bark(self):\n",
    "        return f'{self.name} is barking'\n",
    "    def run_speed(self):\n",
    "        return self.weight / self.age * 10\n",
    "    def fight(self, other_dog):\n",
    "        self_score = self.run_speed() * self.weight\n",
    "        other_score = other_dog.run_speed() * other_dog.weight\n",
    "\n",
    "        if self_score > other_score:\n",
    "            return f\"{self.name} won the fight!\"\n",
    "        elif self_score < other_score:\n",
    "            return f\"{other_dog.name} won the fight!\"\n",
    "        else:\n",
    "            return \"It's a tie!\""
   ]
  },
  {
   "cell_type": "code",
   "execution_count": 9,
   "id": "f741a6a2-dcac-429d-b85d-deba6930dfed",
   "metadata": {
    "tags": []
   },
   "outputs": [],
   "source": [
    "class PetDog(Dog):\n",
    "    def __init__(self, name, age, weight):\n",
    "        super().__init__(name, age, weight)\n",
    "        self.trained = False"
   ]
  },
  {
   "cell_type": "code",
   "execution_count": 13,
   "id": "5c6fffa0-950b-401a-bccc-b279be45bc32",
   "metadata": {
    "tags": []
   },
   "outputs": [],
   "source": [
    "    def train(self):\n",
    "        print(self.bark())\n",
    "        self.trained = True\n",
    "\n",
    "    def play(self, *args):\n",
    "        dog_names = ', '.join(args)\n",
    "        print(f\"{dog_names} all play together.\")\n",
    "\n",
    "    def do_a_trick(self):\n",
    "        if self.trained:\n",
    "            trick_options = [\n",
    "                f\"{self.name} does a barrel roll.\",\n",
    "                f\"{self.name} stands on his back legs.\",\n",
    "                f\"{self.name} shakes your hand.\",\n",
    "                f\"{self.name} plays dead.\"\n",
    "            ]\n",
    "            print(random.choice(trick_options))\n",
    "        else:\n",
    "            print(f\"{self.name} is not trained yet.\")"
   ]
  },
  {
   "cell_type": "code",
   "execution_count": null,
   "id": "ec09722e-ae3a-43ca-b675-9bf8ba470d5a",
   "metadata": {},
   "outputs": [],
   "source": []
  },
  {
   "cell_type": "code",
   "execution_count": null,
   "id": "c5c45a07-c6b0-40c9-af25-587786e19b92",
   "metadata": {},
   "outputs": [],
   "source": []
  },
  {
   "cell_type": "code",
   "execution_count": null,
   "id": "1322b31a-b363-48d8-999e-92f06fd4b9e8",
   "metadata": {},
   "outputs": [],
   "source": []
  },
  {
   "cell_type": "code",
   "execution_count": null,
   "id": "0e08c06d-e169-4b9c-831e-aa0fd97290b3",
   "metadata": {},
   "outputs": [],
   "source": []
  }
 ],
 "metadata": {
  "kernelspec": {
   "display_name": "Python 3 (ipykernel)",
   "language": "python",
   "name": "python3"
  },
  "language_info": {
   "codemirror_mode": {
    "name": "ipython",
    "version": 3
   },
   "file_extension": ".py",
   "mimetype": "text/x-python",
   "name": "python",
   "nbconvert_exporter": "python",
   "pygments_lexer": "ipython3",
   "version": "3.11.4"
  }
 },
 "nbformat": 4,
 "nbformat_minor": 5
}

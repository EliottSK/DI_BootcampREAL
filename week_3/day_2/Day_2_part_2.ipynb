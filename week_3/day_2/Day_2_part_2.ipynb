{
 "cells": [
  {
   "cell_type": "code",
   "execution_count": 16,
   "id": "26629e97-e1bb-4e50-ab3f-ea2ffd1c8602",
   "metadata": {
    "tags": []
   },
   "outputs": [],
   "source": [
    "#Exercise 1 \n"
   ]
  },
  {
   "cell_type": "code",
   "execution_count": 17,
   "id": "72767fb0-0011-4a2d-bc62-2feb97ca2a16",
   "metadata": {
    "tags": []
   },
   "outputs": [
    {
     "name": "stdout",
     "output_type": "stream",
     "text": [
      "Congratulations! John is born in the Smith family.\n",
      "True\n",
      "False\n",
      "Family Name: Smith\n",
      "Family Members:\n",
      "- Michael\n",
      "- Sarah\n",
      "- John\n"
     ]
    }
   ],
   "source": [
    "class Family:\n",
    "    def __init__(self, last_name, members):\n",
    "        self.last_name = last_name\n",
    "        self.members = members\n",
    "\n",
    "    def born(self, **kwargs):\n",
    "        child = {'name': kwargs.get('name'),\n",
    "                 'age': kwargs.get('age'),\n",
    "                 'gender': kwargs.get('gender'),\n",
    "                 'is_child': True}\n",
    "        self.members.append(child)\n",
    "        print(f\"Congratulations! {child['name']} is born in the {self.last_name} family.\")\n",
    "\n",
    "    def is_18(self, name):\n",
    "        for member in self.members:\n",
    "            if member['name'] == name:\n",
    "                return member['age'] >= 18\n",
    "        return False\n",
    "\n",
    "    def family_presentation(self):\n",
    "        print(f\"Family Name: {self.last_name}\")\n",
    "        print(\"Family Members:\")\n",
    "        for member in self.members:\n",
    "            print(\"-\", member['name'])\n",
    "\n",
    "\n",
    "initial_members = [\n",
    "    {'name': 'Michael', 'age': 35, 'gender': 'Male', 'is_child': False},\n",
    "    {'name': 'Sarah', 'age': 32, 'gender': 'Female', 'is_child': False}\n",
    "]\n",
    "\n",
    "\n",
    "my_family = Family(\"Smith\", initial_members)\n",
    "\n",
    "\n",
    "my_family.born(name='John', age=0, gender='Male')\n",
    "print(my_family.is_18('Michael'))\n",
    "print(my_family.is_18('John'))\n",
    "my_family.family_presentation()"
   ]
  },
  {
   "cell_type": "code",
   "execution_count": null,
   "id": "2034a975-fec4-4873-9481-6fceb7836fd2",
   "metadata": {},
   "outputs": [],
   "source": [
    "# Exercise 2 :"
   ]
  },
  {
   "cell_type": "code",
   "execution_count": 21,
   "id": "3326906c-37d0-4589-87b1-960cd29b1c40",
   "metadata": {
    "tags": []
   },
   "outputs": [
    {
     "ename": "IndentationError",
     "evalue": "expected an indented block after function definition on line 2 (440481454.py, line 3)",
     "output_type": "error",
     "traceback": [
      "\u001b[0;36m  Cell \u001b[0;32mIn[21], line 3\u001b[0;36m\u001b[0m\n\u001b[0;31m    self.power = power\u001b[0m\n\u001b[0m    ^\u001b[0m\n\u001b[0;31mIndentationError\u001b[0m\u001b[0;31m:\u001b[0m expected an indented block after function definition on line 2\n"
     ]
    }
   ],
   "source": [
    "class TheIncredibles(Family): \n",
    "    def __init__(self, power, incredible_name):\n",
    "    self.power = power \n",
    "    self.incredible_name = incredible_name "
   ]
  },
  {
   "cell_type": "code",
   "execution_count": 22,
   "id": "3918bd6a-83e1-42e4-b199-3cd528cf03d4",
   "metadata": {
    "tags": []
   },
   "outputs": [],
   "source": [
    "class TheIncredibles(Family):\n",
    "    def __init__(self, power, incredible_name):\n",
    "        self.power = power \n",
    "        self.incredible_name = incredible_name "
   ]
  },
  {
   "cell_type": "code",
   "execution_count": 23,
   "id": "1b6d2f93-93af-49a5-8dcd-898d298babc4",
   "metadata": {
    "tags": []
   },
   "outputs": [],
   "source": [
    "initial_members = [\n",
    "    {'name': 'Michael', 'age': 35, 'gender': 'Male', 'is_child': False, 'power': 'fly', 'incredible_name': 'MikeFly'},\n",
    "    {'name': 'Sarah', 'age': 32, 'gender': 'Female', 'is_child': False, 'power': 'read minds', 'incredible_name': 'SuperWoman'}\n",
    "]"
   ]
  },
  {
   "cell_type": "code",
   "execution_count": null,
   "id": "1c284ab5-9358-46d4-bdb6-512053e67c1d",
   "metadata": {},
   "outputs": [],
   "source": []
  },
  {
   "cell_type": "code",
   "execution_count": null,
   "id": "8b866711-d1fd-44ee-bfe2-eda9695bdf79",
   "metadata": {},
   "outputs": [],
   "source": []
  },
  {
   "cell_type": "code",
   "execution_count": null,
   "id": "03eb8dad-f181-48f1-a6f4-c5bd12dcbb0b",
   "metadata": {},
   "outputs": [],
   "source": []
  },
  {
   "cell_type": "code",
   "execution_count": null,
   "id": "7bd66eed-437d-4b06-b93c-0a7e373180d1",
   "metadata": {},
   "outputs": [],
   "source": []
  }
 ],
 "metadata": {
  "kernelspec": {
   "display_name": "Python 3 (ipykernel)",
   "language": "python",
   "name": "python3"
  },
  "language_info": {
   "codemirror_mode": {
    "name": "ipython",
    "version": 3
   },
   "file_extension": ".py",
   "mimetype": "text/x-python",
   "name": "python",
   "nbconvert_exporter": "python",
   "pygments_lexer": "ipython3",
   "version": "3.11.4"
  }
 },
 "nbformat": 4,
 "nbformat_minor": 5
}
